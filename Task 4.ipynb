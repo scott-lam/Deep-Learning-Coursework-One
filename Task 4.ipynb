{
 "cells": [
  {
   "cell_type": "code",
   "execution_count": 1,
   "id": "f9328c3f",
   "metadata": {},
   "outputs": [],
   "source": [
    "import numpy as np\n",
    "import pandas as pd\n",
    "import matplotlib.pyplot as plt\n",
    "from sklearn import preprocessing\n",
    "from sklearn.model_selection import train_test_split\n",
    "\n",
    "enc = preprocessing.OneHotEncoder(sparse=False)\n",
    "\n",
    "dataFile = pd.read_csv('./Mixcancer.csv')\n",
    "x = dataFile.values[:, 1:]\n",
    "y = dataFile.values[:, 0]\n",
    "\n",
    "y = y.reshape(len(y),1)\n",
    "y = enc.fit_transform(y)\n",
    "x = preprocessing.MinMaxScaler().fit_transform(x)\n",
    "x_train, x_test, y_train, y_test = train_test_split(x, y, test_size=0.5, random_state=0, shuffle=True)"
   ]
  },
  {
   "cell_type": "code",
   "execution_count": 2,
   "id": "ce570290",
   "metadata": {},
   "outputs": [],
   "source": [
    "def sigmoid(v):\n",
    "    return 1/(1+np.exp(-v))\n",
    "\n",
    "def sigmoid_der(v):\n",
    "    return sigmoid(v)*(1-sigmoid(v))\n",
    "\n",
    "def reLu(v):\n",
    "    return np.maximum(v,0)\n",
    "\n",
    "def reLu_der(v):\n",
    "    v[v<=0] = 0\n",
    "    v[v>0] = 1\n",
    "    return v\n",
    "\n",
    "def softmax(v):\n",
    "    e = np.exp(v)\n",
    "    return e / e.sum(axis=1, keepdims=True)\n",
    "\n",
    "def softmax_der(v):\n",
    "    return softmax(v) * (1-softmax(v))"
   ]
  },
  {
   "cell_type": "code",
   "execution_count": 3,
   "id": "bc8314a4",
   "metadata": {},
   "outputs": [],
   "source": [
    "def crossEntrop(o,y):\n",
    "    return (-y*(np.log(o)) - (1-y)* np.log(1-o))\n",
    "\n",
    "def crossEntrDeriv(o,y):\n",
    "    return o-y"
   ]
  },
  {
   "cell_type": "code",
   "execution_count": 4,
   "id": "d1a5613a",
   "metadata": {
    "scrolled": false
   },
   "outputs": [
    {
     "name": "stdout",
     "output_type": "stream",
     "text": [
      "Final Accuracy: 0.94\n",
      "Final Error: 0.14792423944275207\n"
     ]
    },
    {
     "name": "stderr",
     "output_type": "stream",
     "text": [
      "C:\\Users\\Scott\\AppData\\Local\\Temp/ipykernel_33768/571178963.py:74: UserWarning: Matplotlib is currently using module://matplotlib_inline.backend_inline, which is a non-GUI backend, so cannot show the figure.\n",
      "  f1.show()\n",
      "C:\\Users\\Scott\\AppData\\Local\\Temp/ipykernel_33768/571178963.py:81: UserWarning: Matplotlib is currently using module://matplotlib_inline.backend_inline, which is a non-GUI backend, so cannot show the figure.\n",
      "  f2.show()\n"
     ]
    },
    {
     "data": {
      "image/png": "[encoded data removed]",
      "text/plain": [
       "<Figure size 432x288 with 1 Axes>"
      ]
     },
     "metadata": {
      "needs_background": "light"
     },
     "output_type": "display_data"
    },
    {
     "data": {
      "image/png": "[encoded data removed]",
      "text/plain": [
       "<Figure size 432x288 with 1 Axes>"
      ]
     },
     "metadata": {
      "needs_background": "light"
     },
     "output_type": "display_data"
    }
   ],
   "source": [
    "import matplotlib.pyplot as plt\n",
    "from sklearn import metrics\n",
    "\n",
    "np.random.seed(0)\n",
    "w1 = np.random.uniform(-1,1,[len(x[0]),40]) #weights of the first layer\n",
    "b1 = np.zeros([1,40]) #bias of the first layer\n",
    "w2 = np.random.uniform(-1,1,[40,2]) #weights of the second layer\n",
    "b2 = np.zeros([1, 2]) #bias of the second layer\n",
    "\n",
    "l = 0.01\n",
    "epochs = 2000\n",
    "batch_size = 8\n",
    "\n",
    "trainError = []\n",
    "testError = []\n",
    "trainAcc = []\n",
    "testAcc = []\n",
    "\n",
    "for epoch in range(epochs):\n",
    "    for i in range(0, x_train.shape[0], batch_size):\n",
    "        x_mini = x_train[i:i + batch_size-1, :]\n",
    "        y_mini = y_train[i:i + batch_size-1, :]\n",
    "        \n",
    "        #feedforward\n",
    "        in1 = x_mini@w1 + b1\n",
    "        o1 = reLu(in1)\n",
    "        in2 = o1@w2 + b2\n",
    "        o2 = softmax(in2)\n",
    "        \n",
    "        #error calculation\n",
    "        error = crossEntrop(o2 ,y_mini).mean()\n",
    "        \n",
    "        #backpropagation Layer 2\n",
    "        dE_dO2 = crossEntrDeriv(o2, y_mini)\n",
    "        dO2_dIn2 = softmax_der(in2)\n",
    "        dIn2_dW2 = o1\n",
    "        dIn2_B2 = 1\n",
    "        dE_dW2 = (1/x_mini.shape[0])*dIn2_dW2.T@(dE_dO2*dO2_dIn2)\n",
    "        dE_dB2 = (1/x_mini.shape[0])*np.ones([1,len(x_mini)])@(dE_dO2*dO2_dIn2)\n",
    "\n",
    "        #backpropagation Layer 1\n",
    "        dIn2_dO1 = w2\n",
    "        dO1_dIn1 = reLu_der(in1)\n",
    "        dIn1_dW1 = x_mini\n",
    "        dE_dW1 = (1/x_mini.shape[0])*dIn1_dW1.T@((dE_dO2*dO2_dIn2@dIn2_dO1.T)*dO1_dIn1)\n",
    "        dE_dB1 = (1/x_mini.shape[0])*np.ones([len(x_mini)])@((dE_dO2*dO2_dIn2@dIn2_dO1.T)*dO1_dIn1)\n",
    "\n",
    "        #updating parameters\n",
    "        b2-=l*dE_dB2\n",
    "        w2-=l*dE_dW2\n",
    "        b1-=l*dE_dB1\n",
    "        w1-=l*dE_dW1\n",
    "    \n",
    "    #Error\n",
    "    trainError.append(error)\n",
    "    testError.append(crossEntrop(softmax(reLu(x_test@w1+b1)@w2+b2), y_test).mean())\n",
    "    \n",
    "    #Accuracy\n",
    "    train_preds = np.where(o2 > 0.5, 1, 0)\n",
    "    trainAcc.append(metrics.accuracy_score(y_mini, train_preds))\n",
    "    test_preds = np.where(softmax(reLu(x_test@w1+b1)@w2+b2) > 0.5,1,0)\n",
    "    testAcc.append(metrics.accuracy_score(y_test, test_preds))\n",
    "\n",
    "    \n",
    "print('Final Accuracy: ' + str(metrics.accuracy_score(y_test, test_preds)))\n",
    "print('Final Error: ' + str(crossEntrop(softmax(reLu(x_test@w1+b1)@w2+b2), y_test).mean()))\n",
    "\n",
    "z=np.arange(epochs)\n",
    "f1= plt.figure(1)\n",
    "plt.plot(z, trainError, label='train', color='red')\n",
    "plt.plot(z, testError, label='test', color='blue')\n",
    "plt.legend(loc='best')\n",
    "plt.title('Error')\n",
    "f1.show()\n",
    "\n",
    "f2 = plt.figure(2)\n",
    "plt.plot(z, trainAcc, label='train', color='red')\n",
    "plt.plot(z, testAcc, label='test', color='blue')\n",
    "plt.legend(loc='best')\n",
    "plt.title('Accuracy')\n",
    "f2.show()"
   ]
  }
 ],
 "metadata": {
  "kernelspec": {
   "display_name": "Python 3",
   "language": "python",
   "name": "python3"
  },
  "language_info": {
   "codemirror_mode": {
    "name": "ipython",
    "version": 3
   },
   "file_extension": ".py",
   "mimetype": "text/x-python",
   "name": "python",
   "nbconvert_exporter": "python",
   "pygments_lexer": "ipython3",
   "version": "3.9.9"
  }
 },
 "nbformat": 4,
 "nbformat_minor": 5
}
